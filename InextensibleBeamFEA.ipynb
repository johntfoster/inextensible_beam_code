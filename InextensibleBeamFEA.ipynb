{
 "cells": [
  {
   "cell_type": "code",
   "execution_count": 1,
   "metadata": {
    "collapsed": false
   },
   "outputs": [],
   "source": [
    "%%bash\n",
    "c++ -g -o _residual.dylib residual.cpp -fPIC -shared \\\n",
    "    -L$HOME/miniconda3/envs/iebeam/lib -I$HOME/miniconda3/envs/iebeam/include;\n",
    "    \n",
    "install_name_tool -add_rpath $HOME/miniconda3/envs/iebeam/lib _residual.dylib"
   ]
  },
  {
   "cell_type": "code",
   "execution_count": 2,
   "metadata": {
    "collapsed": false
   },
   "outputs": [],
   "source": [
    "import numpy as np\n",
    "import scipy\n",
    "\n",
    "%matplotlib inline\n",
    "import matplotlib.pyplot as plt\n",
    "plt.rc('text', usetex=True)\n",
    "plt.rc('font', family='serif')\n",
    "\n",
    "import cffi\n",
    "from scipy.special import legendre\n",
    "from scipy.optimize import newton_krylov, fsolve, anderson\n",
    "\n",
    "\n",
    "ffi = cffi.FFI()\n",
    "\n",
    "\n",
    "ffi.cdef(\"\"\"\n",
    "            void computeResidual(const int beam_type_flag, const double youngs_mod, \n",
    "                   const double area, const double moment_of_inertia, \n",
    "                   const int int_rule, const double* int_points, const double* int_wts, \n",
    "                   const int num_elements, const int num_of_nodes_per_element, \n",
    "                   const int num_dofs_per_node, const int num_dof, const double* nodes, \n",
    "                   const double* unknowns, double* residual);\n",
    "                        \n",
    "            void evaluate_u1(int num_of_eval_pts_per_element, int num_dof, int num_elements, \n",
    "                   const double* solution, const double* nodes, \n",
    "                   double* x, double* u1);\n",
    "                       \n",
    "            void evaluate_u2(int num_of_eval_pts_per_element, int num_dof, int num_elements, \n",
    "                   const double* solution, const double* nodes, \n",
    "                   double* x, double* u2);\n",
    "                   \n",
    "            void evaluate_lambda(int num_of_eval_pts_per_element, int num_dof, int num_elements, \n",
    "                   const double* solution, const double* nodes, \n",
    "                   double* x, double* lambda);\n",
    "                   \n",
    "            void evaluate_constraint(int num_of_eval_pts_per_element, int num_dof, int num_elements, \n",
    "                   const double* solution, const double* nodes, \n",
    "                   double* x, double* constraint);           \n",
    "                    \n",
    "            \"\"\")\n",
    "\n",
    "res = ffi.dlopen(\"_residual.dylib\")"
   ]
  },
  {
   "cell_type": "code",
   "execution_count": null,
   "metadata": {
    "collapsed": false
   },
   "outputs": [],
   "source": [
    "class InextensibleBeamFEA(object):\n",
    "    \n",
    "    def __init__(self, number_of_elements=1, length=1, E=1, I=1, A=1, deltaP1=1, deltaP2=1, int_rule=3, \n",
    "                 beam_type='HP-constrained'):\n",
    "    \n",
    "        self.number_of_elements = number_of_elements\n",
    "        self.length = length\n",
    "        \n",
    "        self.E = E\n",
    "        self.I = I\n",
    "        self.A = A\n",
    "        \n",
    "        self.deltaP1 = deltaP1\n",
    "        self.deltaP2 = deltaP2\n",
    "        \n",
    "        self.int_rule = int_rule\n",
    "        self.xi, self.int_wts = np.polynomial.legendre.leggauss(int_rule)\n",
    "        \n",
    "        self.nodes = np.linspace(0, length, num=(number_of_elements * 2 + 1))\n",
    "        \n",
    "        number_of_midpoint_nodes = (self.nodes.shape[0]) // 2\n",
    "        self.unknowns = np.zeros((number_of_midpoint_nodes + 1) * 4 + number_of_midpoint_nodes)\n",
    "        self.residual = np.zeros_like(self.unknowns)\n",
    "        self.sol = np.zeros_like(self.unknowns)\n",
    "        \n",
    "        self.N = 1\n",
    "        \n",
    "        if beam_type == 'HP-constrained':\n",
    "            self.beam_type_flag = 0\n",
    "        elif beam_type == 'unconstrained':\n",
    "            self.beam_type_flag = 1\n",
    "        \n",
    "    def compute_residual(self, X):\n",
    "        \n",
    "        #Compute the residual from C library\n",
    "        res.computeResidual(self.beam_type_flag, self.E , self.A, self.I, self.int_rule, ffi.from_buffer(self.xi), \n",
    "                            ffi.from_buffer(self.int_wts), self.number_of_elements, 3, 5, np.int(self.unknowns.shape[0]), \n",
    "                            ffi.from_buffer(self.nodes), ffi.from_buffer(X), ffi.from_buffer(self.residual))\n",
    "        \n",
    "        #Zero out boundary conditions in residual (cantileaver beam)\n",
    "        self.residual[[0,1,2]] = 0.0\n",
    "        \n",
    "        #Apply load to end of beam\n",
    "        self.residual[-4] -= self.N * self.deltaP1\n",
    "        self.residual[-3] -= self.N * self.deltaP2\n",
    "        \n",
    "        \n",
    "        return self.residual\n",
    "    \n",
    "    \n",
    "    def solve_one_load_step(self):\n",
    "        \n",
    "        guess = self.sol\n",
    "        \n",
    "        self.sol = newton_krylov(self.compute_residual, guess, f_tol=6e-8)\n",
    "        \n",
    "        return\n",
    "    \n",
    "    \n",
    "    def solve(self, num_load_steps=1):\n",
    "        \n",
    "        for i in range(num_load_steps):\n",
    "            self.N += i\n",
    "            self.solve_one_load_step()\n",
    "            \n",
    "            \n",
    "    def evaluate_u1(self, num_of_eval_pts_per_element=10):\n",
    "        \n",
    "        x = np.zeros(num_of_eval_pts_per_element * self.number_of_elements + 1)\n",
    "        u1 = np.zeros_like(x)\n",
    "        \n",
    "        res.evaluate_u1(num_of_eval_pts_per_element, self.unknowns.shape[0], self.number_of_elements, \n",
    "                   ffi.from_buffer(self.sol), ffi.from_buffer(self.nodes), \n",
    "                   ffi.from_buffer(x), ffi.from_buffer(u1))\n",
    "        \n",
    "        return (x, u1)\n",
    "    \n",
    "    \n",
    "    def plot_u1(self, num_of_eval_pts_per_element=10):\n",
    "        \n",
    "        x, u1 = self.evaluate_u1(num_of_eval_pts_per_element)\n",
    "        \n",
    "        plt.plot(x,u1)\n",
    "        plt.xlabel(\"u_1\")\n",
    "        \n",
    "        return\n",
    "    \n",
    "    \n",
    "    def evaluate_u2(self, num_of_eval_pts_per_element=10):\n",
    "        \n",
    "        x = np.zeros(num_of_eval_pts_per_element * self.number_of_elements + 1)\n",
    "        u2 = np.zeros_like(x)\n",
    "        \n",
    "        res.evaluate_u2(num_of_eval_pts_per_element, self.unknowns.shape[0], self.number_of_elements, \n",
    "                   ffi.from_buffer(self.sol), ffi.from_buffer(self.nodes), \n",
    "                   ffi.from_buffer(x), ffi.from_buffer(u2))\n",
    "        \n",
    "        return (x, u2)\n",
    "    \n",
    "    \n",
    "    def plot_u2(self, num_of_eval_pts_per_element=10):\n",
    "        \n",
    "        x, u2 = self.evaluate_u2(num_of_eval_pts_per_element)\n",
    "        \n",
    "        plt.plot(x,u2)\n",
    "        plt.xlabel(\"u_2\")\n",
    "        \n",
    "        return\n",
    "    \n",
    "    def evaluate_lambda(self, num_of_eval_pts_per_element=10):\n",
    "        \n",
    "        x = np.zeros(num_of_eval_pts_per_element * self.number_of_elements + 1)\n",
    "        lambda1 = np.zeros_like(x)\n",
    "        \n",
    "        res.evaluate_lambda(num_of_eval_pts_per_element, self.unknowns.shape[0], self.number_of_elements, \n",
    "                   ffi.from_buffer(self.sol), ffi.from_buffer(self.nodes), \n",
    "                   ffi.from_buffer(x), ffi.from_buffer(lambda1))\n",
    "        \n",
    "        return (x, lambda1)\n",
    "    \n",
    "    \n",
    "    def plot_lambda(self, num_of_eval_pts_per_element=10):\n",
    "        \n",
    "        x, lambda1 = self.evaluate_lambda(num_of_eval_pts_per_element)\n",
    "        \n",
    "        plt.plot(x,lambda1)\n",
    "        plt.xlabel(\"\\lambda\")\n",
    "        \n",
    "        return\n",
    "    \n",
    "    def evaluate_constraint(self, num_of_eval_pts_per_element=10):\n",
    "        \n",
    "        x = np.zeros(num_of_eval_pts_per_element * self.number_of_elements + 1)\n",
    "        constraint = np.zeros_like(x)\n",
    "        \n",
    "        res.evaluate_constraint(num_of_eval_pts_per_element, self.unknowns.shape[0], self.number_of_elements, \n",
    "                   ffi.from_buffer(self.sol), ffi.from_buffer(self.nodes), \n",
    "                   ffi.from_buffer(x), ffi.from_buffer(constraint))\n",
    "        \n",
    "        return (x, constraint)\n",
    "    \n",
    "    def plot_constraint(self, num_of_eval_pts_per_element=10):\n",
    "        \n",
    "        x, constraint = self.evaluate_constraint(num_of_eval_pts_per_element)\n",
    "        \n",
    "        plt.plot(x, constraint)\n",
    "        plt.xlabel(\"Constraint\")\n",
    "        \n",
    "        return\n",
    "    \n",
    "    def plot_beam_shape(self, num_of_eval_pts_per_element=10):\n",
    "        \n",
    "        (x1, u1) = self.evaluate_u1(num_of_eval_pts_per_element)\n",
    "        (x2, u2) = self.evaluate_u2(num_of_eval_pts_per_element)\n",
    "        \n",
    "        plt.plot(x1+u1,u2);\n",
    "        \n",
    "        return"
   ]
  },
  {
   "cell_type": "code",
   "execution_count": null,
   "metadata": {
    "collapsed": false
   },
   "outputs": [],
   "source": [
    "problem = InextensibleBeamFEA(number_of_elements=20, E=200e9, I=0.1 ** 4. / 12., A=0.1 * 0.1, length=10, \n",
    "                              deltaP1=10, deltaP2=0.001, beam_type='HP-constrained')\n",
    "\n",
    "problem.solve(num_load_steps=5)"
   ]
  },
  {
   "cell_type": "code",
   "execution_count": null,
   "metadata": {
    "collapsed": false
   },
   "outputs": [],
   "source": [
    "problem.plot_u1()"
   ]
  },
  {
   "cell_type": "code",
   "execution_count": null,
   "metadata": {
    "collapsed": false
   },
   "outputs": [],
   "source": [
    "problem.plot_u2();"
   ]
  },
  {
   "cell_type": "code",
   "execution_count": null,
   "metadata": {
    "collapsed": false
   },
   "outputs": [],
   "source": [
    "problem.plot_lambda()"
   ]
  },
  {
   "cell_type": "code",
   "execution_count": null,
   "metadata": {
    "collapsed": false
   },
   "outputs": [],
   "source": [
    "problem.plot_constraint()"
   ]
  },
  {
   "cell_type": "code",
   "execution_count": null,
   "metadata": {
    "collapsed": false
   },
   "outputs": [],
   "source": [
    "problem.plot_beam_shape()"
   ]
  },
  {
   "cell_type": "code",
   "execution_count": null,
   "metadata": {
    "collapsed": true
   },
   "outputs": [],
   "source": []
  }
 ],
 "metadata": {
  "anaconda-cloud": {
   "attach-environment": false
  },
  "kernelspec": {
   "display_name": "Python [default]",
   "language": "python",
   "name": "python3"
  },
  "language_info": {
   "codemirror_mode": {
    "name": "ipython",
    "version": 3
   },
   "file_extension": ".py",
   "mimetype": "text/x-python",
   "name": "python",
   "nbconvert_exporter": "python",
   "pygments_lexer": "ipython3",
   "version": "3.5.2"
  }
 },
 "nbformat": 4,
 "nbformat_minor": 0
}
