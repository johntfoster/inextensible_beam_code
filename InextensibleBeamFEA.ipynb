{
 "cells": [
  {
   "cell_type": "code",
   "execution_count": 1,
   "metadata": {
    "collapsed": false
   },
   "outputs": [],
   "source": [
    "%%bash\n",
    "c++ -g -o _residual.dylib residual.cpp -fPIC -shared \\\n",
    "    -L$HOME/miniconda3/envs/iebeam/lib -I$HOME/miniconda3/envs/iebeam/include;\n",
    "    \n",
    "install_name_tool -add_rpath $HOME/miniconda3/envs/iebeam/lib _residual.dylib"
   ]
  },
  {
   "cell_type": "code",
   "execution_count": 2,
   "metadata": {
    "collapsed": false
   },
   "outputs": [],
   "source": [
    "import numpy as np\n",
    "import scipy\n",
    "\n",
    "%matplotlib inline\n",
    "import matplotlib.pyplot as plt\n",
    "plt.rc('text', usetex=True)\n",
    "plt.rc('font', family='serif')\n",
    "\n",
    "import cffi\n",
    "from scipy.special import legendre\n",
    "from scipy.optimize import newton_krylov, fsolve, anderson\n",
    "\n",
    "\n",
    "ffi = cffi.FFI()\n",
    "\n",
    "\n",
    "ffi.cdef(\"\"\"\n",
    "            void computeResidual(const double youngs_mod, const double area, const double moment_of_inertia, \n",
    "                        const int int_rule, const double* int_points, const double* int_wts, \n",
    "                        const int num_elements, const int num_of_nodes_per_element, \n",
    "                        const int num_dofs_per_node, const int num_dof, const double* nodes, \n",
    "                        const double* unknowns, double* residual);\n",
    "                       \n",
    "            void generate_u2(int num_of_eval_pts_per_element, int num_dof, int num_elements, \n",
    "                   const double* solution, const double* nodes, \n",
    "                   double* x, double* u2);\n",
    "            \"\"\")\n",
    "\n",
    "res = ffi.dlopen(\"_residual.dylib\")"
   ]
  },
  {
   "cell_type": "code",
   "execution_count": 3,
   "metadata": {
    "collapsed": true
   },
   "outputs": [],
   "source": [
    "class InextensibleBeamFEA(object):\n",
    "    \n",
    "    def __init__(self, number_of_elements=1, length=1, E=1, I=1, A=1, P1=1, P2=1, int_rule=3):\n",
    "    \n",
    "        self.number_of_elements = number_of_elements\n",
    "        self.length = length\n",
    "        \n",
    "        self.E = E\n",
    "        self.I = I\n",
    "        self.A = A\n",
    "        \n",
    "        self.P1 = P1\n",
    "        self.P2 = P2\n",
    "        \n",
    "        self.int_rule = int_rule\n",
    "        self.xi, self.int_wts = np.polynomial.legendre.leggauss(int_rule)\n",
    "        \n",
    "        self.nodes = np.linspace(0, length, num=(number_of_elements * 2 + 1))\n",
    "        \n",
    "        number_of_midpoint_nodes = (self.nodes.shape[0]) // 2\n",
    "        self.unknowns = np.zeros((number_of_midpoint_nodes + 1) * 4 + number_of_midpoint_nodes)\n",
    "        self.residual = np.zeros_like(self.unknowns)\n",
    "        \n",
    "    def compute_residual(self, X):\n",
    "        \n",
    "        self.residual[:] = 0.0\n",
    "        \n",
    "        #Compute the residual from C library\n",
    "        res.computeResidual(self.E , self.A, self.I, self.int_rule, ffi.from_buffer(self.xi), \n",
    "                            ffi.from_buffer(self.int_wts), self.number_of_elements, 3, 5, np.int(self.unknowns.shape[0]), \n",
    "                            ffi.from_buffer(self.nodes), ffi.from_buffer(X), ffi.from_buffer(self.residual))\n",
    "        \n",
    "        #Zero out boundary conditions in residual (cantileaver beam)\n",
    "        self.residual[[0,1,2]] = 0.0\n",
    "        \n",
    "        #Apply load to end of beam\n",
    "        self.residual[-4] -= self.P1\n",
    "        self.residual[-3] -= self.P2\n",
    "        \n",
    "        \n",
    "        return self.residual\n",
    "    \n",
    "    \n",
    "    def solve(self):\n",
    "        \n",
    "        guess = np.zeros_like(self.unknowns)\n",
    "        \n",
    "        self.sol = newton_krylov(self.compute_residual, guess)\n",
    "        \n",
    "        return\n",
    "    \n",
    "    \n",
    "    def plot_u2(self, num_of_eval_pts_per_element=10):\n",
    "        \n",
    "        x = np.zeros(num_of_eval_pts_per_element * self.number_of_elements + 1)\n",
    "        u2 = np.zeros_like(x)\n",
    "        \n",
    "        res.generate_u2(num_of_eval_pts_per_element, self.unknowns.shape[0], self.number_of_elements, \n",
    "                   ffi.from_buffer(self.sol), ffi.from_buffer(self.nodes), \n",
    "                   ffi.from_buffer(x), ffi.from_buffer(u2))\n",
    "        \n",
    "        \n",
    "        plt.plot(x,u2)\n",
    "        plt.xlabel(\"u_2\")\n",
    "        \n",
    "        return"
   ]
  },
  {
   "cell_type": "code",
   "execution_count": 4,
   "metadata": {
    "collapsed": false
   },
   "outputs": [
    {
     "data": {
      "image/png": "[encoded data removed]",
      "text/plain": [
       "<matplotlib.figure.Figure at 0x10c4220f0>"
      ]
     },
     "metadata": {},
     "output_type": "display_data"
    }
   ],
   "source": [
    "problem = InextensibleBeamFEA(number_of_elements=1, E=200e9, I=0.2 ** 4. / 12., A=0.0, length=10, P1=1e-16, P2=-100)\n",
    "\n",
    "problem.solve()\n",
    "problem.plot_u2()"
   ]
  },
  {
   "cell_type": "code",
   "execution_count": null,
   "metadata": {
    "collapsed": true
   },
   "outputs": [],
   "source": []
  }
 ],
 "metadata": {
  "anaconda-cloud": {},
  "kernelspec": {
   "display_name": "Python [default]",
   "language": "python",
   "name": "python3"
  },
  "language_info": {
   "codemirror_mode": {
    "name": "ipython",
    "version": 3
   },
   "file_extension": ".py",
   "mimetype": "text/x-python",
   "name": "python",
   "nbconvert_exporter": "python",
   "pygments_lexer": "ipython3",
   "version": "3.5.2"
  }
 },
 "nbformat": 4,
 "nbformat_minor": 0
}
