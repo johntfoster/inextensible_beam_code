{
 "cells": [
  {
   "cell_type": "code",
   "execution_count": 1,
   "metadata": {
    "collapsed": false
   },
   "outputs": [],
   "source": [
    "%%bash\n",
    "c++ -g -o _residual.dylib residual.cpp -fPIC -shared \\\n",
    "    -L$HOME/miniconda3/envs/iebeam/lib -I$HOME/miniconda3/envs/iebeam/include;\n",
    "    \n",
    "install_name_tool -add_rpath $HOME/miniconda3/envs/iebeam/lib _residual.dylib"
   ]
  },
  {
   "cell_type": "code",
   "execution_count": 2,
   "metadata": {
    "collapsed": false
   },
   "outputs": [],
   "source": [
    "import numpy as np\n",
    "import scipy\n",
    "\n",
    "%matplotlib inline\n",
    "import matplotlib.pyplot as plt\n",
    "plt.rc('text', usetex=True)\n",
    "plt.rc('font', family='serif')\n",
    "\n",
    "import cffi\n",
    "from scipy.special import legendre\n",
    "from scipy.optimize import newton_krylov, fsolve, anderson\n",
    "\n",
    "\n",
    "ffi = cffi.FFI()\n",
    "\n",
    "\n",
    "ffi.cdef(\"\"\"\n",
    "            void computeResidual(const double youngs_mod, const double area, const double moment_of_inertia, \n",
    "                       const int int_rule, const double* int_points, const double* int_wts, \n",
    "                       const int num_elements, const int num_elements, const double* nodes, const double* uknowns, \n",
    "                       double* residual);\n",
    "                       \n",
    "            void computeJacobian(const double youngs_mod, const double area, const double moment_of_inertia, \n",
    "                       const double delta, const int int_rule, const double* int_points, const double* int_wts, \n",
    "                       const int num_elements, const int num_dof,  const double* nodes, \n",
    "                       const double* unknowns, double* jacobian);\n",
    "                       \n",
    "            void generate_u2(int num_of_eval_pts_per_element, int num_dof, int num_elements, \n",
    "                   const double* solution, const double* nodes, \n",
    "                   double* x, double* u2);\n",
    "            \"\"\")\n",
    "\n",
    "res = ffi.dlopen(\"_residual.dylib\")"
   ]
  },
  {
   "cell_type": "code",
   "execution_count": 3,
   "metadata": {
    "collapsed": true
   },
   "outputs": [],
   "source": [
    "class InextensibleBeamFEA(object):\n",
    "    \n",
    "    def __init__(self, number_of_elements=1, length=1, E=1, I=1, A=1, P2=1, int_rule=3):\n",
    "    \n",
    "        self.number_of_elements = number_of_elements\n",
    "        self.length = length\n",
    "        \n",
    "        self.E = E\n",
    "        self.I = I\n",
    "        self.A = A\n",
    "        \n",
    "        self.P2 = P2\n",
    "        \n",
    "        self.int_rule = int_rule\n",
    "        self.xi, self.int_wts = np.polynomial.legendre.leggauss(int_rule)\n",
    "        \n",
    "        self.nodes = np.linspace(0, length, num=(number_of_elements * 2 + 1))\n",
    "        \n",
    "        number_of_midpoint_nodes = (self.nodes.shape[0]) // 2\n",
    "        self.unknowns = np.zeros((number_of_midpoint_nodes + 1) * 4 + number_of_midpoint_nodes)\n",
    "        self.residual = np.zeros_like(self.unknowns)\n",
    "        \n",
    "    def compute_residual(self, X):\n",
    "        \n",
    "        self.residual[:] = 0.0\n",
    "        \n",
    "        #Compute the residual from C library\n",
    "        res.computeResidual(self.E , self.A, self.I, self.int_rule, ffi.from_buffer(self.xi), \n",
    "                            ffi.from_buffer(self.int_wts), self.number_of_elements, np.int(self.unknowns.shape[0]), \n",
    "                            ffi.from_buffer(self.nodes), ffi.from_buffer(X), ffi.from_buffer(self.residual))\n",
    "        \n",
    "        #Zero out boundary conditions in residual (cantileaver beam)\n",
    "        self.residual[[0,1]] = 0.0\n",
    "        \n",
    "        #Apply load to end of beam\n",
    "        self.residual[-3] -= self.P2\n",
    "        \n",
    "        return self.residual\n",
    "    \n",
    "    \n",
    "    def solve(self):\n",
    "        \n",
    "        guess = np.zeros_like(self.unknowns)\n",
    "        \n",
    "        return newton_krylov(self.compute_residual, guess)"
   ]
  },
  {
   "cell_type": "code",
   "execution_count": 4,
   "metadata": {
    "collapsed": false
   },
   "outputs": [
    {
     "ename": "ValueError",
     "evalue": "Jacobian inversion yielded zero vector. This indicates a bug in the Jacobian approximation.",
     "output_type": "error",
     "traceback": [
      "\u001b[0;31m---------------------------------------------------------------------------\u001b[0m",
      "\u001b[0;31mValueError\u001b[0m                                Traceback (most recent call last)",
      "\u001b[0;32m<ipython-input-4-4a0aba4d54a2>\u001b[0m in \u001b[0;36m<module>\u001b[0;34m()\u001b[0m\n\u001b[1;32m      1\u001b[0m \u001b[0mproblem\u001b[0m \u001b[0;34m=\u001b[0m \u001b[0mInextensibleBeamFEA\u001b[0m\u001b[0;34m(\u001b[0m\u001b[0mnumber_of_elements\u001b[0m\u001b[0;34m=\u001b[0m\u001b[0;36m1\u001b[0m\u001b[0;34m,\u001b[0m \u001b[0mE\u001b[0m\u001b[0;34m=\u001b[0m\u001b[0;36m200e9\u001b[0m\u001b[0;34m,\u001b[0m \u001b[0mI\u001b[0m\u001b[0;34m=\u001b[0m\u001b[0;36m0.2\u001b[0m \u001b[0;34m**\u001b[0m \u001b[0;36m4.\u001b[0m \u001b[0;34m/\u001b[0m \u001b[0;36m12.\u001b[0m\u001b[0;34m,\u001b[0m \u001b[0mA\u001b[0m\u001b[0;34m=\u001b[0m\u001b[0;36m0.0\u001b[0m\u001b[0;34m,\u001b[0m \u001b[0mlength\u001b[0m\u001b[0;34m=\u001b[0m\u001b[0;36m10\u001b[0m\u001b[0;34m,\u001b[0m \u001b[0mP2\u001b[0m\u001b[0;34m=\u001b[0m\u001b[0;34m-\u001b[0m\u001b[0;36m100\u001b[0m\u001b[0;34m)\u001b[0m\u001b[0;34m\u001b[0m\u001b[0m\n\u001b[1;32m      2\u001b[0m \u001b[0;34m\u001b[0m\u001b[0m\n\u001b[0;32m----> 3\u001b[0;31m \u001b[0mproblem\u001b[0m\u001b[0;34m.\u001b[0m\u001b[0msolve\u001b[0m\u001b[0;34m(\u001b[0m\u001b[0;34m)\u001b[0m\u001b[0;34m\u001b[0m\u001b[0m\n\u001b[0m",
      "\u001b[0;32m<ipython-input-3-d6e4e84a35cd>\u001b[0m in \u001b[0;36msolve\u001b[0;34m(self)\u001b[0m\n\u001b[1;32m     43\u001b[0m         \u001b[0mguess\u001b[0m \u001b[0;34m=\u001b[0m \u001b[0mnp\u001b[0m\u001b[0;34m.\u001b[0m\u001b[0mzeros_like\u001b[0m\u001b[0;34m(\u001b[0m\u001b[0mself\u001b[0m\u001b[0;34m.\u001b[0m\u001b[0munknowns\u001b[0m\u001b[0;34m)\u001b[0m\u001b[0;34m\u001b[0m\u001b[0m\n\u001b[1;32m     44\u001b[0m \u001b[0;34m\u001b[0m\u001b[0m\n\u001b[0;32m---> 45\u001b[0;31m         \u001b[0;32mreturn\u001b[0m \u001b[0mnewton_krylov\u001b[0m\u001b[0;34m(\u001b[0m\u001b[0mself\u001b[0m\u001b[0;34m.\u001b[0m\u001b[0mcompute_residual\u001b[0m\u001b[0;34m,\u001b[0m \u001b[0mguess\u001b[0m\u001b[0;34m)\u001b[0m\u001b[0;34m\u001b[0m\u001b[0m\n\u001b[0m",
      "\u001b[0;32m/Users/john/miniconda3/envs/iebeam/lib/python3.5/site-packages/scipy/optimize/nonlin.py\u001b[0m in \u001b[0;36mnewton_krylov\u001b[0;34m(F, xin, iter, rdiff, method, inner_maxiter, inner_M, outer_k, verbose, maxiter, f_tol, f_rtol, x_tol, x_rtol, tol_norm, line_search, callback, **kw)\u001b[0m\n",
      "\u001b[0;32m/Users/john/miniconda3/envs/iebeam/lib/python3.5/site-packages/scipy/optimize/nonlin.py\u001b[0m in \u001b[0;36mnonlin_solve\u001b[0;34m(F, x0, jacobian, iter, verbose, maxiter, f_tol, f_rtol, x_tol, x_rtol, tol_norm, line_search, callback, full_output, raise_exception)\u001b[0m\n\u001b[1;32m    310\u001b[0m \u001b[0;34m\u001b[0m\u001b[0m\n\u001b[1;32m    311\u001b[0m         \u001b[0;32mif\u001b[0m \u001b[0mnorm\u001b[0m\u001b[0;34m(\u001b[0m\u001b[0mdx\u001b[0m\u001b[0;34m)\u001b[0m \u001b[0;34m==\u001b[0m \u001b[0;36m0\u001b[0m\u001b[0;34m:\u001b[0m\u001b[0;34m\u001b[0m\u001b[0m\n\u001b[0;32m--> 312\u001b[0;31m             raise ValueError(\"Jacobian inversion yielded zero vector. \"\n\u001b[0m\u001b[1;32m    313\u001b[0m                              \u001b[0;34m\"This indicates a bug in the Jacobian \"\u001b[0m\u001b[0;34m\u001b[0m\u001b[0m\n\u001b[1;32m    314\u001b[0m                              \"approximation.\")\n",
      "\u001b[0;31mValueError\u001b[0m: Jacobian inversion yielded zero vector. This indicates a bug in the Jacobian approximation."
     ]
    }
   ],
   "source": [
    "problem = InextensibleBeamFEA(number_of_elements=1, E=200e9, I=0.2 ** 4. / 12., A=0.0, length=10, P2=-100)\n",
    "\n",
    "problem.solve()"
   ]
  },
  {
   "cell_type": "code",
   "execution_count": null,
   "metadata": {
    "collapsed": true
   },
   "outputs": [],
   "source": []
  }
 ],
 "metadata": {
  "anaconda-cloud": {},
  "kernelspec": {
   "display_name": "Python [default]",
   "language": "python",
   "name": "python3"
  },
  "language_info": {
   "codemirror_mode": {
    "name": "ipython",
    "version": 3
   },
   "file_extension": ".py",
   "mimetype": "text/x-python",
   "name": "python",
   "nbconvert_exporter": "python",
   "pygments_lexer": "ipython3",
   "version": "3.5.2"
  }
 },
 "nbformat": 4,
 "nbformat_minor": 0
}
